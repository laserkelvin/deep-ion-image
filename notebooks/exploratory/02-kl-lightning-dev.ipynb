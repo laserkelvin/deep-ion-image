{
 "cells": [
  {
   "cell_type": "code",
   "execution_count": 3,
   "metadata": {},
   "outputs": [],
   "source": [
    "import torch\n",
    "from torch.nn import functional as F\n",
    "from torch import nn\n",
    "import pytorch_lightning as pl\n",
    "from pytorch_lightning.core.lightning import LightningModule\n",
    "\n",
    "import h5py"
   ]
  },
  {
   "cell_type": "code",
   "execution_count": 5,
   "metadata": {},
   "outputs": [],
   "source": [
    "class ConvolutionBlock(nn.Module):\n",
    "    def __init__(self, in_channels, out_channels, conv_kernel, dropout=0., activation=nn.ReLU(), pool=nn.MaxPool2d(2), **kwargs):\n",
    "        super().__init__()\n",
    "        self.conv = nn.Conv2d(in_channels, out_channels, conv_kernel, **kwargs)\n",
    "        self.activation = activation\n",
    "        self.dropout = nn.Dropout(dropout)\n",
    "        self.pool = pool\n",
    "\n",
    "    def forward(self, X: torch.Tensor) -> torch.Tensor:\n",
    "        output = self.conv(X)\n",
    "        if self.activation is not None:\n",
    "            output = self.activation(output)\n",
    "        output = self.dropout(output)\n",
    "        output = self.pool(output)\n",
    "        return output\n",
    "\n",
    "\n",
    "class DecoderBlock(nn.Module):\n",
    "    def __init__(self, in_channels, out_channels, conv_kernel, dropout=0., activation=nn.ReLU(), upsample_size=10, **kwargs):\n",
    "        super().__init__()\n",
    "        self.conv = nn.Conv2d(in_channels, out_channels, conv_kernel, **kwargs)\n",
    "        self.activation = activation\n",
    "        self.dropout = nn.Dropout(dropout)\n",
    "        self.upsample_size = upsample_size\n",
    "\n",
    "    def forward(self, X: torch.Tensor) -> torch.Tensor:\n",
    "        output = F.interpolate(X, scale_factor=self.upsample_size, mode=\"bilinear\", align_corners=True)\n",
    "        output = self.conv(output)\n",
    "        if self.activation is not None:\n",
    "            output = self.activation(output)\n",
    "        output = self.dropout(output)\n",
    "        return output\n",
    "\n",
    "\n",
    "class BaseEncoder(nn.Module):\n",
    "    def __init__(self):\n",
    "        super().__init__()\n",
    "        self.conv_1 = ConvolutionBlock(1, 8, 11, pool=nn.MaxPool2d(4))\n",
    "        self.conv_2 = ConvolutionBlock(8, 16, 7)\n",
    "        self.conv_3 = ConvolutionBlock(16, 32, 5, pool=nn.MaxPool2d(4))\n",
    "        self.conv_4 = ConvolutionBlock(32, 64, 3)\n",
    "        self.conv_5 = ConvolutionBlock(64, 128, 3, pool=nn.MaxPool2d(4))\n",
    "        self.conv_6 = ConvolutionBlock(128, 256, 1, activation=None)\n",
    "        self.layers = [self.conv_1, self.conv_2, self.conv_3, self.conv_4, self.conv_5, self.conv_6]\n",
    "\n",
    "    def forward(self, X: torch.Tensor) -> torch.Tensor:\n",
    "        output = self.conv_1(X)\n",
    "        for layer in self.layers[1:]:\n",
    "            output = layer(output)\n",
    "        return output\n",
    "\n",
    "\n",
    "class BaseDecoder(nn.Module):\n",
    "    def __init__(self, sigmoid=True):\n",
    "        super().__init__()\n",
    "        self.conv_1 = DecoderBlock(256, 128, 5, upsample_size=8)\n",
    "        self.conv_2 = DecoderBlock(128, 64, 7, upsample_size=8)\n",
    "        self.conv_3 = DecoderBlock(64, 32, 5, upsample_size=6)\n",
    "        self.conv_4 = DecoderBlock(32, 16, 3, upsample_size=2)\n",
    "        self.conv_5 = DecoderBlock(16, 8, 3, upsample_size=2)\n",
    "        self.conv_6 = DecoderBlock(8, 1, 3, upsample_size=2)\n",
    "        self.conv_7 = DecoderBlock(1, 1, 3,  activation=nn.Sigmoid(), upsample_size=1)\n",
    "        self.layers = [self.conv_1, self.conv_2, self.conv_3, self.conv_4, self.conv_5, self.conv_6, self.conv_7]\n",
    "\n",
    "    def forward(self, X: torch.Tensor):\n",
    "        output = self.conv_1(X)\n",
    "        for layer in self.layers[1:]:\n",
    "            output = layer(output)\n",
    "        return output\n",
    "\n",
    "\n",
    "class AutoEncoder(LightningModule):\n",
    "    def __init__(self, encoder, decoder, lr=1e-3):\n",
    "        super().__init__()\n",
    "        self.encoder = encoder\n",
    "        self.decoder = decoder\n",
    "        self.lr = lr\n",
    "\n",
    "    def forward(self, X: torch.Tensor) -> torch.Tensor:\n",
    "        z = self.encoder(X)\n",
    "        return self.decoder(z)\n",
    "\n",
    "    def configure_optimizers(self):\n",
    "        optimizer = torch.optim.Adam(self.parameters(), self.lr)\n",
    "        return optimizer\n",
    "\n",
    "    def training_step(self, batch, batch_idx):\n",
    "        X, Y = batch\n",
    "        pred_Y = self.forward(X)\n",
    "        loss = F.binary_cross_entropy(pred_Y, Y)\n",
    "        tensorboard_logs = {\"train_loss\": loss}\n",
    "        return {\"loss\": loss, \"log\": tensorboard_logs}"
   ]
  },
  {
   "cell_type": "code",
   "execution_count": 3,
   "metadata": {},
   "outputs": [],
   "source": [
    "def calculate_shape(N, kernel, stride, padding):\n",
    "    return stride * (N - 1) + kernel - 2 * padding"
   ]
  },
  {
   "cell_type": "code",
   "execution_count": 291,
   "metadata": {},
   "outputs": [],
   "source": [
    "test = torch.rand(1, 1, 1200, 1200)"
   ]
  },
  {
   "cell_type": "code",
   "execution_count": 52,
   "metadata": {},
   "outputs": [],
   "source": [
    "block1 = ConvolutionBlock(1, 8, 11, pool=nn.MaxPool2d(4))\n",
    "block2 = ConvolutionBlock(8, 16, 7)\n",
    "block3 = ConvolutionBlock(16, 32, 5, pool=nn.MaxPool2d(4))\n",
    "block4 = ConvolutionBlock(32, 64, 3)\n",
    "block5 = ConvolutionBlock(64, 128, 3, pool=nn.MaxPool2d(4))\n",
    "block6 = ConvolutionBlock(128, 256, 1)"
   ]
  },
  {
   "cell_type": "code",
   "execution_count": 107,
   "metadata": {},
   "outputs": [],
   "source": [
    "encoder = BaseEncoder()"
   ]
  },
  {
   "cell_type": "code",
   "execution_count": 108,
   "metadata": {},
   "outputs": [
    {
     "ename": "NameError",
     "evalue": "name 'test' is not defined",
     "output_type": "error",
     "traceback": [
      "\u001b[0;31m---------------------------------------------------------------------------\u001b[0m",
      "\u001b[0;31mNameError\u001b[0m                                 Traceback (most recent call last)",
      "\u001b[0;32m<ipython-input-108-c3d8914be2d7>\u001b[0m in \u001b[0;36m<module>\u001b[0;34m\u001b[0m\n\u001b[0;32m----> 1\u001b[0;31m \u001b[0mencoder\u001b[0m\u001b[0;34m(\u001b[0m\u001b[0mtest\u001b[0m\u001b[0;34m)\u001b[0m\u001b[0;34m.\u001b[0m\u001b[0mshape\u001b[0m\u001b[0;34m\u001b[0m\u001b[0;34m\u001b[0m\u001b[0m\n\u001b[0m",
      "\u001b[0;31mNameError\u001b[0m: name 'test' is not defined"
     ]
    }
   ],
   "source": [
    "encoder(test).shape"
   ]
  },
  {
   "cell_type": "code",
   "execution_count": 236,
   "metadata": {},
   "outputs": [],
   "source": [
    "z = torch.rand(1, 256, 1, 1)"
   ]
  },
  {
   "cell_type": "code",
   "execution_count": 285,
   "metadata": {},
   "outputs": [],
   "source": [
    "decoder = BaseDecoder()"
   ]
  },
  {
   "cell_type": "code",
   "execution_count": 286,
   "metadata": {},
   "outputs": [
    {
     "data": {
      "text/plain": [
       "torch.Size([1, 1, 1200, 1200])"
      ]
     },
     "execution_count": 286,
     "metadata": {},
     "output_type": "execute_result"
    }
   ],
   "source": [
    "decoder(z).shape"
   ]
  },
  {
   "cell_type": "code",
   "execution_count": 146,
   "metadata": {},
   "outputs": [
    {
     "data": {
      "text/plain": [
       "tensor([[[[0.4966, 0.4966, 0.4966,  ..., 0.4966, 0.4966, 0.4966],\n",
       "          [0.4966, 0.4966, 0.4966,  ..., 0.4966, 0.4966, 0.4966],\n",
       "          [0.4966, 0.4966, 0.4966,  ..., 0.4966, 0.4966, 0.4966],\n",
       "          ...,\n",
       "          [0.4966, 0.4966, 0.4966,  ..., 0.4966, 0.4966, 0.4966],\n",
       "          [0.4966, 0.4966, 0.4966,  ..., 0.4966, 0.4966, 0.4966],\n",
       "          [0.4966, 0.4966, 0.4966,  ..., 0.4966, 0.4966, 0.4966]]]],\n",
       "       grad_fn=<SigmoidBackward>)"
      ]
     },
     "execution_count": 146,
     "metadata": {},
     "output_type": "execute_result"
    }
   ],
   "source": [
    "decoder(z)"
   ]
  },
  {
   "cell_type": "code",
   "execution_count": 12,
   "metadata": {},
   "outputs": [],
   "source": [
    "autoencoder = AutoEncoder(BaseEncoder(), BaseDecoder())"
   ]
  },
  {
   "cell_type": "markdown",
   "metadata": {},
   "source": [
    "## Data setup"
   ]
  },
  {
   "cell_type": "code",
   "execution_count": 14,
   "metadata": {},
   "outputs": [],
   "source": [
    "from dii.pipeline.datautils import CompositeH5Dataset\n",
    "from dii.pipeline.transforms import default_pipeline\n",
    "from torch.utils.data import DataLoader"
   ]
  },
  {
   "cell_type": "code",
   "execution_count": 19,
   "metadata": {},
   "outputs": [],
   "source": [
    "train = CompositeH5Dataset(\"../../data/raw/ion_images.h5\", \"true\", default_pipeline, indices=[i for i in range(20)])"
   ]
  },
  {
   "cell_type": "code",
   "execution_count": 20,
   "metadata": {},
   "outputs": [],
   "source": [
    "train_loader = DataLoader(train, batch_size=16, num_workers=4)"
   ]
  },
  {
   "cell_type": "code",
   "execution_count": 21,
   "metadata": {},
   "outputs": [
    {
     "name": "stderr",
     "output_type": "stream",
     "text": [
      "GPU available: False, used: False\n",
      "TPU available: False, using: 0 TPU cores\n"
     ]
    }
   ],
   "source": [
    "trainer = pl.Trainer()"
   ]
  },
  {
   "cell_type": "code",
   "execution_count": 22,
   "metadata": {},
   "outputs": [
    {
     "name": "stderr",
     "output_type": "stream",
     "text": [
      "\n",
      "  | Name    | Type        | Params\n",
      "----------------------------------------\n",
      "0 | encoder | BaseEncoder | 145 K \n",
      "1 | decoder | BaseDecoder | 1 M   \n"
     ]
    },
    {
     "name": "stdout",
     "output_type": "stream",
     "text": [
      "Epoch 1:   1%|▏         | 9/625 [02:04<2:21:37, 13.79s/it, loss=0.579, v_num=11]\n"
     ]
    },
    {
     "data": {
      "text/plain": [
       "1"
      ]
     },
     "execution_count": 22,
     "metadata": {},
     "output_type": "execute_result"
    }
   ],
   "source": [
    "trainer.fit(autoencoder, train_loader)"
   ]
  },
  {
   "cell_type": "code",
   "execution_count": null,
   "metadata": {},
   "outputs": [],
   "source": []
  }
 ],
 "metadata": {
  "kernelspec": {
   "display_name": "Python (DII)",
   "language": "python",
   "name": "ion-image"
  },
  "language_info": {
   "codemirror_mode": {
    "name": "ipython",
    "version": 3
   },
   "file_extension": ".py",
   "mimetype": "text/x-python",
   "name": "python",
   "nbconvert_exporter": "python",
   "pygments_lexer": "ipython3",
   "version": "3.7.7"
  },
  "widgets": {
   "application/vnd.jupyter.widget-state+json": {
    "state": {},
    "version_major": 2,
    "version_minor": 0
   }
  }
 },
 "nbformat": 4,
 "nbformat_minor": 4
}
