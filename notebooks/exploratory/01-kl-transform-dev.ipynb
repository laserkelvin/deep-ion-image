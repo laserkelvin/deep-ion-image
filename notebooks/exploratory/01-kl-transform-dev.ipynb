{
 "cells": [
  {
   "cell_type": "code",
   "execution_count": 183,
   "metadata": {},
   "outputs": [],
   "source": [
    "%matplotlib inline\n",
    "import torch\n",
    "from torchvision import transforms\n",
    "from torch.utils import data\n",
    "import h5py\n",
    "import numpy as np\n",
    "import abel\n",
    "import numba\n",
    "from matplotlib import pyplot as plt\n",
    "from PIL import Image"
   ]
  },
  {
   "cell_type": "code",
   "execution_count": 2,
   "metadata": {},
   "outputs": [],
   "source": [
    "h5_file = h5py.File('../../data/raw/ion_images.h5', 'r')"
   ]
  },
  {
   "cell_type": "code",
   "execution_count": 3,
   "metadata": {},
   "outputs": [],
   "source": [
    "test_image = h5_file[\"true\"][5016]"
   ]
  },
  {
   "cell_type": "code",
   "execution_count": 129,
   "metadata": {},
   "outputs": [],
   "source": [
    "class ProcessNumpyArray(object):\n",
    "    def __call__(self, X: np.ndarray):\n",
    "        if X.dtype != np.uint8:\n",
    "            X_max = X.max()\n",
    "            X /= X_max\n",
    "            X *= 255\n",
    "            X = X.astype(np.uint8)\n",
    "        return X[:,:,np.newaxis]\n",
    "\n",
    "\n",
    "class AbelProjection(object):\n",
    "    def __call__(self, X: np.ndarray) -> np.ndarray:\n",
    "        try:\n",
    "            return abel.Transform(X, direction='forward', method='hansenlaw').transform\n",
    "        except ValueError as error:\n",
    "            print(f\"{error} - {X.shape}\")\n",
    "\n",
    "@numba.njit\n",
    "def cart2r(x, y):\n",
    "    r = np.sqrt(x**2 + y**2)\n",
    "    return r\n",
    "\n",
    "\n",
    "@numba.njit\n",
    "def radial_integration(image: np.ndarray):\n",
    "    h, w = image.shape\n",
    "    center = (h + w) // 4\n",
    "    r_bins = np.zeros(center)\n",
    "    for x in range(center):\n",
    "        for y in range(center):\n",
    "            r = np.int(cart2r(x, y))\n",
    "            if r < center:\n",
    "                r_bins[r] += image[x+center, y+center]\n",
    "    hist_max = r_bins.max()\n",
    "    return r_bins / hist_max"
   ]
  },
  {
   "cell_type": "code",
   "execution_count": 130,
   "metadata": {},
   "outputs": [],
   "source": [
    "ra = transforms.RandomAffine(0., translate=(0.05, 0.05), scale=(0.3, 1.))"
   ]
  },
  {
   "cell_type": "code",
   "execution_count": 131,
   "metadata": {},
   "outputs": [],
   "source": [
    "pipeline = transforms.Compose([AbelProjection(), ProcessNumpyArray(), transforms.ToPILImage(), ra, transforms.ToTensor()])"
   ]
  },
  {
   "cell_type": "markdown",
   "metadata": {},
   "source": [
    "## Integrated radial profile\n",
    "\n",
    "We can check that everything looks more or less correct by integrating along the distance from the image center:"
   ]
  },
  {
   "cell_type": "code",
   "execution_count": 175,
   "metadata": {},
   "outputs": [
    {
     "data": {
      "text/plain": [
       "[<matplotlib.lines.Line2D at 0x7f173e09fa50>]"
      ]
     },
     "execution_count": 175,
     "metadata": {},
     "output_type": "execute_result"
    },
    {
     "data": {
      "image/png": "[encoded data removed]",
      "text/plain": [
       "<Figure size 432x288 with 1 Axes>"
      ]
     },
     "metadata": {
      "needs_background": "light"
     },
     "output_type": "display_data"
    }
   ],
   "source": [
    "plt.plot(radial_integration(AbelProjection()(test_image)))\n",
    "plt.plot(radial_integration(test_image))"
   ]
  },
  {
   "cell_type": "markdown",
   "metadata": {},
   "source": [
    "## Dataset class\n",
    "\n",
    "We need a Dataset class that will synthesize a new image from the HDF5 data each time `__getitem__` is called, from a combination of _n_ possible images."
   ]
  },
  {
   "cell_type": "code",
   "execution_count": 190,
   "metadata": {},
   "outputs": [],
   "source": [
    "class H5Dataset(data.Dataset):\n",
    "    def __init__(self, path: str, key: str, transform=None):\n",
    "        self.file_path = path\n",
    "        self.key = key\n",
    "        self.dataset = None\n",
    "        self.transform = transform\n",
    "        with h5py.File(self.file_path, 'r') as file:\n",
    "            self.dataset_len = len(file[self.key])\n",
    "\n",
    "    def __getitem__(self, index):\n",
    "        if self.dataset is None:\n",
    "            self.dataset = h5py.File(self.file_path, 'r')[self.key]\n",
    "        X = self.dataset[index]\n",
    "        if self.transform:\n",
    "            return self.transform(X)\n",
    "        return X\n",
    "\n",
    "    def __len__(self):\n",
    "        return self.dataset_len\n",
    "\n",
    "\n",
    "class CompositeH5Dataset(H5Dataset):\n",
    "    def __init__(self, path: str, key: str, transform=None, scale: float = 2., seed=None):\n",
    "        super().__init__(path, key, transform)\n",
    "        self.seed = seed\n",
    "        self.scale = scale\n",
    "        self.indices = np.arange(len(self))\n",
    "\n",
    "    def __getitem__(self, index):\n",
    "        if self.dataset is None:\n",
    "            self.dataset = h5py.File(self.file_path, 'r')[self.key]\n",
    "        n_composites = int(np.random.exponential(self.scale) + 1)\n",
    "        chosen = np.random.choice(self.indices, size=n_composites)\n",
    "        if n_composites != 1:\n",
    "            chosen.sort()\n",
    "        X = self.dataset[chosen]\n",
    "        # if we have multiple images, flatten to a single composite\n",
    "        if X.ndim == 3:\n",
    "            X = X.sum(axis=0)\n",
    "        # if we have a compose pipeline defined, run it\n",
    "        if self.transform:\n",
    "            return (self.transform(X), X)\n",
    "        return (X, None)\n",
    "\n",
    "    \n",
    "class SelectiveComposite(H5Dataset):\n",
    "    def __init__(self, path: str, key: str, transform=None):\n",
    "        super().__init__(path, key, transform)\n",
    "\n",
    "    def __getitem__(self, indices):\n",
    "        if self.dataset is None:\n",
    "            self.dataset = h5py.File(self.file_path, 'r')[self.key]\n",
    "        indices = sorted(indices)\n",
    "        X = self.dataset[indices].sum(axis=0).astype(float)\n",
    "        if self.transform:\n",
    "            return (self.transform(X), torch.FloatTensor(X).unsqueeze(0))\n",
    "        X = torch.FloatTensor(X).unsqueeze(0)\n",
    "        return (X, X)"
   ]
  },
  {
   "cell_type": "code",
   "execution_count": 102,
   "metadata": {},
   "outputs": [],
   "source": [
    "h5_dataset = H5Dataset(\"../../data/raw/ion_images.h5\", \"true\")"
   ]
  },
  {
   "cell_type": "code",
   "execution_count": 168,
   "metadata": {},
   "outputs": [],
   "source": [
    "h5_dataset = CompositeH5Dataset(\"../../data/raw/ion_images.h5\", \"true\", transform=pipeline)"
   ]
  },
  {
   "cell_type": "code",
   "execution_count": 174,
   "metadata": {},
   "outputs": [
    {
     "data": {
      "text/plain": [
       "<matplotlib.image.AxesImage at 0x7f173e6d8d90>"
      ]
     },
     "execution_count": 174,
     "metadata": {},
     "output_type": "execute_result"
    },
    {
     "data": {
      "image/png": "[encoded data removed]",
      "text/plain": [
       "<Figure size 432x288 with 1 Axes>"
      ]
     },
     "metadata": {
      "needs_background": "light"
     },
     "output_type": "display_data"
    }
   ],
   "source": [
    "plt.imshow(h5_dataset.__getitem__(0)[0][0])"
   ]
  },
  {
   "cell_type": "code",
   "execution_count": 192,
   "metadata": {},
   "outputs": [],
   "source": [
    "h5_dataset = SelectiveComposite(\"../../data/raw/ion_images.h5\", \"true\", transform=pipeline)"
   ]
  },
  {
   "cell_type": "code",
   "execution_count": 195,
   "metadata": {},
   "outputs": [
    {
     "data": {
      "text/plain": [
       "torch.float32"
      ]
     },
     "execution_count": 195,
     "metadata": {},
     "output_type": "execute_result"
    }
   ],
   "source": [
    "h5_dataset.__getitem__([0, 1, 2, 3])[0].dtype"
   ]
  },
  {
   "cell_type": "code",
   "execution_count": null,
   "metadata": {},
   "outputs": [],
   "source": []
  }
 ],
 "metadata": {
  "kernelspec": {
   "display_name": "Python (DII)",
   "language": "python",
   "name": "ion-image"
  },
  "language_info": {
   "codemirror_mode": {
    "name": "ipython",
    "version": 3
   },
   "file_extension": ".py",
   "mimetype": "text/x-python",
   "name": "python",
   "nbconvert_exporter": "python",
   "pygments_lexer": "ipython3",
   "version": "3.7.7"
  },
  "widgets": {
   "application/vnd.jupyter.widget-state+json": {
    "state": {},
    "version_major": 2,
    "version_minor": 0
   }
  }
 },
 "nbformat": 4,
 "nbformat_minor": 4
}
